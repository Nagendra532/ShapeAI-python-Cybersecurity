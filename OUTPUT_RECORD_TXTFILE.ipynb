{
  "nbformat": 4,
  "nbformat_minor": 0,
  "metadata": {
    "colab": {
      "name": "OUTPUT RECORD TXTFILE",
      "provenance": []
    },
    "kernelspec": {
      "name": "python3",
      "display_name": "Python 3"
    },
    "language_info": {
      "name": "python"
    }
  },
  "cells": [
    {
      "cell_type": "markdown",
      "metadata": {
        "id": "SJD60BKkTRd9"
      },
      "source": [
        "Enter the city name: Kurnool\n",
        "------------------------------------------------------------\n",
        "Weather stats for - KURNOOL || 23 Jun 2021 | 05:06:53 AM\n",
        "------------------------------------------------------------\n",
        "Current temperature is: 32.59 deg C\n",
        "Current weather desc  : overcast clouds\n",
        "Current Humidity      : 45%\n",
        "Current wind speed    : 5.74 kmph"
      ]
    }
  ]
}